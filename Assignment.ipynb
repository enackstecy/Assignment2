{
 "cells": [
  {
   "cell_type": "code",
   "execution_count": 141,
   "id": "9ada16e4-c87e-4f72-a3c7-a8162b634de5",
   "metadata": {},
   "outputs": [],
   "source": [
    "from matplotlib.patches import Rectangle\n",
    "import matplotlib.pyplot as plt\n",
    "from matplotlib.patches import ConnectionPatch\n",
    "from matplotlib.patches import Arc"
   ]
  },
  {
   "cell_type": "code",
   "execution_count": null,
   "id": "4b962941-76c5-4b29-921f-b76554c45e1b",
   "metadata": {},
   "outputs": [],
   "source": []
  },
  {
   "cell_type": "code",
   "execution_count": 142,
   "id": "0b7d0cbf-53f3-4cf7-873a-5e301d4deb2a",
   "metadata": {},
   "outputs": [],
   "source": [
    "def draw_pitch(ax):\n",
    "\n",
    "    #Pitch Outline & Centre Line with left and right line\n",
    "    Pitch = Rectangle([0,0], width = 120, height = 80, fill = True,color=\"green\")\n",
    "\n",
    "    midline = ConnectionPatch([60,0], [60,80], \"data\", \"data\")\n",
    "    Leftline = ConnectionPatch([30,0], [30,80], \"data\", \"data\")\n",
    "    rightline = ConnectionPatch([90,0], [90,80], \"data\", \"data\")\n",
    "\n",
    "    #Prepare Circles\n",
    "    leftArc = Arc((-10,40),height=40,width=40,angle=0,theta1=310,theta2=50,color=\"black\")\n",
    "    rightArc = Arc((130,40),height=40,width=40,angle=0,theta1=130,theta2=230,color=\"black\")\n",
    "    \n",
    "    element = [Pitch, rightline,midline,Leftline, leftArc, rightArc]\n",
    "    for i in element:\n",
    "        ax.add_patch(i)"
   ]
  },
  {
   "cell_type": "code",
   "execution_count": 143,
   "id": "268eba7e-48f0-41b7-8e69-c0df51eef6fc",
   "metadata": {},
   "outputs": [
    {
     "data": {
      "image/png": "[encoded data removed]",
      "text/plain": [
       "<Figure size 504x360 with 1 Axes>"
      ]
     },
     "metadata": {
      "needs_background": "light"
     },
     "output_type": "display_data"
    }
   ],
   "source": [
    "fig=plt.figure() #set up the figures\n",
    "fig.set_size_inches(7, 5)\n",
    "ax=fig.add_subplot(1,1,1)\n",
    "draw_pitch(ax) #overlay our different objects on the pitch\n",
    "plt.ylim(-2, 82)\n",
    "plt.xlim(-2, 122)\n",
    "plt.axis('off')\n",
    "plt.show()\n",
    "fig.savefig('C:\\\\Users\\\\ahsan\\\\Desktop\\\\Project\\\\to.png')"
   ]
  },
  {
   "cell_type": "code",
   "execution_count": null,
   "id": "10821072-f426-42be-92b7-5e547052f88c",
   "metadata": {},
   "outputs": [],
   "source": []
  },
  {
   "cell_type": "code",
   "execution_count": null,
   "id": "53a806ac-e498-4b1b-a9ff-3380bcd7182a",
   "metadata": {},
   "outputs": [],
   "source": []
  }
 ],
 "metadata": {
  "kernelspec": {
   "display_name": "Python 3 (ipykernel)",
   "language": "python",
   "name": "python3"
  },
  "language_info": {
   "codemirror_mode": {
    "name": "ipython",
    "version": 3
   },
   "file_extension": ".py",
   "mimetype": "text/x-python",
   "name": "python",
   "nbconvert_exporter": "python",
   "pygments_lexer": "ipython3",
   "version": "3.9.1"
  }
 },
 "nbformat": 4,
 "nbformat_minor": 5
}
